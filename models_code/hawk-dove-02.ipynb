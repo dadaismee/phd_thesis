{
 "cells": [
  {
   "cell_type": "code",
   "execution_count": 1,
   "metadata": {},
   "outputs": [],
   "source": [
    "import numpy as np\n",
    "import matplotlib.pyplot as plt"
   ]
  },
  {
   "cell_type": "markdown",
   "metadata": {},
   "source": [
    "set up the game parameters"
   ]
  },
  {
   "cell_type": "code",
   "execution_count": 2,
   "metadata": {},
   "outputs": [],
   "source": [
    "V = 20  # value of the disputed resource\n",
    "C = 5   # cost of fighting"
   ]
  },
  {
   "cell_type": "markdown",
   "metadata": {},
   "source": [
    "define the payoff matrix"
   ]
  },
  {
   "cell_type": "code",
   "execution_count": 3,
   "metadata": {},
   "outputs": [],
   "source": [
    "payoff_matrix = np.array([[V/2, V-C], [0, V/2-C]])"
   ]
  },
  {
   "cell_type": "markdown",
   "metadata": {},
   "source": [
    "define the strategies for Hawk and Dove"
   ]
  },
  {
   "cell_type": "code",
   "execution_count": 4,
   "metadata": {},
   "outputs": [],
   "source": [
    "HAWK = 0\n",
    "DOVE = 1"
   ]
  },
  {
   "cell_type": "markdown",
   "metadata": {},
   "source": [
    "define a function to play the game iteratively"
   ]
  },
  {
   "cell_type": "code",
   "execution_count": 5,
   "metadata": {},
   "outputs": [],
   "source": [
    "def play_game(strategy_1, strategy_2, rounds):\n",
    "    # initialize scores to zero\n",
    "    score_1 = 0\n",
    "    score_2 = 0\n",
    "    \n",
    "    # play the game for specified number of rounds\n",
    "    for i in range(rounds):\n",
    "        # determine actions based on strategies\n",
    "        if strategy_1 == HAWK:\n",
    "            if strategy_2 == HAWK:\n",
    "                score_1 += payoff_matrix[0][0]\n",
    "                score_2 += payoff_matrix[0][0]\n",
    "            else:\n",
    "                score_1 += payoff_matrix[0][1]\n",
    "                score_2 += payoff_matrix[1][0]\n",
    "        else:\n",
    "            if strategy_2 == HAWK:\n",
    "                score_1 += payoff_matrix[1][0]\n",
    "                score_2 += payoff_matrix[0][1]\n",
    "            else:\n",
    "                score_1 += payoff_matrix[1][1]\n",
    "                score_2 += payoff_matrix[1][1]\n",
    "    return (score_1, score_2)"
   ]
  },
  {
   "cell_type": "markdown",
   "metadata": {},
   "source": [
    "define a function to simulate games between two populations with different proportions of Hawk and Dove players"
   ]
  },
  {
   "cell_type": "code",
   "execution_count": 6,
   "metadata": {},
   "outputs": [],
   "source": [
    "def simulate_game(population_a_hawk_prop, population_b_hawk_prop, rounds_per_game):\n",
    "    # initialize scores to zero\n",
    "    a_score = 0\n",
    "    b_score = 0\n",
    "    \n",
    "    # determine number of players in each population based on proportions and total population size of 10000\n",
    "    num_a_hawks = int(population_a_hawk_prop * 10000)\n",
    "    num_b_hawks = int(population_b_hawk_prop * 10000)\n",
    "    \n",
    "    # determine number of Dove players in each population \n",
    "    num_a_doves = 10000 - num_a_hawks \n",
    "    num_b_doves = 10000 - num_b_hawks\n",
    "    \n",
    "     # play games between pairs of randomly selected players from each population \n",
    "     #(with replacement) and accumulate scores over all games played \n",
    "     #(num_games is set to twice the total population size)\n",
    "    \n",
    "    for i in range(20000): \n",
    "        a_player_strategy = np.random.choice([HAWK, DOVE], p=[population_a_hawk_prop, (1-population_a_hawk_prop)])\n",
    "        b_player_strategy = np.random.choice([HAWK, DOVE], p=[population_b_hawk_prop, (1-population_b_hawk_prop)])\n",
    "        \n",
    "        results_tuple=play_game(a_player_strategy,b_player_strategy,rounds_per_game)\n",
    "        \n",
    "        a_score+=results_tuple[0]     \n",
    "        b_score+=results_tuple[1]  \n",
    "        \n",
    "    return (a_score,b_score)"
   ]
  },
  {
   "cell_type": "markdown",
   "metadata": {},
   "source": [
    "define a function that plots a chart showing how total scores between two populations vary with changes in proportion of hawkish players in one population "
   ]
  },
  {
   "cell_type": "code",
   "execution_count": 7,
   "metadata": {},
   "outputs": [],
   "source": [
    "def plot_population_proportions_varying_scores(rounds_per_game):\n",
    "    \n",
    "   \n",
    "   x_values=[]\n",
    "   y_values=[]\n",
    "   \n",
    "   for i in range(11):\n",
    "      \n",
    "      x_values.append(i/10)\n",
    "      y_values.append(simulate_game(i/10,(10-i)/10,rounds_per_game))\n",
    "      \n",
    "   \n",
    "   plt.plot(x_values,[x[0]for x in y_values ],label='Population A Score')\n",
    "   plt.plot(x_values,[x[1]for x in y_values ],label='Population B Score')\n",
    "   \n",
    "   plt.xlabel('Proportion of Hawkish Players In Population A')\n",
    "   plt.ylabel('Total Score')\n",
    "   \n",
    "   plt.title('Scores For Different Proportions Of Hawkish Players In Population A(N={})'.format(rounds_per_game))\n",
    "  \n",
    "   plt.legend()\n",
    "  "
   ]
  },
  {
   "cell_type": "code",
   "execution_count": null,
   "metadata": {},
   "outputs": [],
   "source": []
  },
  {
   "cell_type": "code",
   "execution_count": null,
   "metadata": {},
   "outputs": [],
   "source": []
  },
  {
   "cell_type": "code",
   "execution_count": null,
   "metadata": {},
   "outputs": [],
   "source": []
  },
  {
   "cell_type": "code",
   "execution_count": null,
   "metadata": {},
   "outputs": [],
   "source": []
  },
  {
   "cell_type": "code",
   "execution_count": null,
   "metadata": {},
   "outputs": [],
   "source": []
  },
  {
   "cell_type": "code",
   "execution_count": null,
   "metadata": {},
   "outputs": [],
   "source": []
  }
 ],
 "metadata": {
  "kernelspec": {
   "display_name": "Python 3 (ipykernel)",
   "language": "python",
   "name": "python3"
  },
  "language_info": {
   "codemirror_mode": {
    "name": "ipython",
    "version": 3
   },
   "file_extension": ".py",
   "mimetype": "text/x-python",
   "name": "python",
   "nbconvert_exporter": "python",
   "pygments_lexer": "ipython3",
   "version": "3.10.4"
  }
 },
 "nbformat": 4,
 "nbformat_minor": 2
}
